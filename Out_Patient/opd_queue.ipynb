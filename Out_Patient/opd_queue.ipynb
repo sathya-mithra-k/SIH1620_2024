{
 "cells": [
  {
   "cell_type": "code",
   "execution_count": 2,
   "metadata": {},
   "outputs": [],
   "source": [
    "import heapq\n",
    "from collections import deque"
   ]
  },
  {
   "cell_type": "code",
   "execution_count": 3,
   "metadata": {},
   "outputs": [],
   "source": [
    "docs = [] #list of doctors available\n",
    "doc_patients = {} #mapping between doctor and patients\n",
    "normal_queue = deque() #normal queue\n",
    "emergency_queue = [] #emergency patient list"
   ]
  },
  {
   "cell_type": "code",
   "execution_count": 4,
   "metadata": {},
   "outputs": [],
   "source": [
    "patient_token_counter = 0 # basic initializer for generating token\n",
    "patient_tokens = {} #patient token mapping"
   ]
  },
  {
   "cell_type": "code",
   "execution_count": 5,
   "metadata": {},
   "outputs": [],
   "source": [
    "def num_doc(tot_doctors):\n",
    "    global docs, doc_patients #mentioning that both the variable are global\n",
    "    #generate the doctors\n",
    "    docs = [f\"doctor_{i+1}\" for i in range(tot_doctors)]\n",
    "    #creating a dictionary with empty values and available doctors as key\n",
    "    doc_patients = {doc: [] for doc in docs}\n",
    "    print(f\"Initialized doctors: {docs}\")\n"
   ]
  },
  {
   "cell_type": "code",
   "execution_count": 6,
   "metadata": {},
   "outputs": [],
   "source": [
    "def ticket_generation(patient_name):\n",
    "    global patient_token_counter, patient_tokens\n",
    "    #generates token number\n",
    "    patient_token_counter += 1\n",
    "    #assigning the token number to variable token\n",
    "    token = patient_token_counter\n",
    "    #creating a dictionary where key is token number and value is patient name\n",
    "    patient_tokens[token] = patient_name\n",
    "    return token"
   ]
  },
  {
   "cell_type": "code",
   "execution_count": 7,
   "metadata": {},
   "outputs": [],
   "source": [
    "def add_patient(patient_name, is_emergency=False): #false means not emergency, true means emergency\n",
    "    #generating ticket function to create unique token number for patients\n",
    "    token = ticket_generation(patient_name)\n",
    "    #if emergency is true\n",
    "    if is_emergency:\n",
    "        #pushing the patient into priority list\n",
    "        heapq.heappush(emergency_queue, (1, token))\n",
    "        print(f\"Patient '{patient_name}' with token {token} added to the emergency queue.\")\n",
    "    #if emergency is false\n",
    "    else:\n",
    "        #pushing patient into normal queue\n",
    "        normal_queue.append(token)\n",
    "        print(f\"Patient '{patient_name}' with token {token} added to the regular queue.\")\n",
    "    #calling assign patient function to assign the patient to doctors\n",
    "    assign_patient()"
   ]
  },
  {
   "cell_type": "code",
   "execution_count": 8,
   "metadata": {},
   "outputs": [],
   "source": [
    "def assign_patient():\n",
    "    #creating a list of doctors who are not having any patients\n",
    "    available_doctors = [doc for doc in docs if len(doc_patients[doc]) == 0]\n",
    "    \n",
    "    # Process emergency cases first\n",
    "    while emergency_queue and available_doctors:\n",
    "        #returns the patient in emergency queue \n",
    "        _, token = heapq.heappop(emergency_queue)\n",
    "        #retrives the patient name from the dictionary\n",
    "        patient_name = patient_tokens[token]\n",
    "        #removing the doctor that is 1st in available doctor list\n",
    "        doctor = available_doctors.pop(0)\n",
    "        #assigning or adding the patient to the doctor\n",
    "        doc_patients[doctor].append(patient_name)\n",
    "        print(f\"EMERGENCY: Patient '{patient_name}' (Token {token}) is assigned to {doctor}.\")\n",
    "        display()  # Display current assignments after adding a patient\n",
    "\n",
    "    # Process normal cases next\n",
    "    while normal_queue and available_doctors:\n",
    "        #returns the first patient in the list\n",
    "        token = normal_queue.popleft()\n",
    "        #retrive the patient name from the dictionary\n",
    "        patient_name = patient_tokens[token]\n",
    "        #removing the doctor that is 1st in available doctor list\n",
    "        doctor = available_doctors.pop(0)\n",
    "        #assigning or adding the patient to the doctor\n",
    "        doc_patients[doctor].append(patient_name)\n",
    "        print(f\"Patient '{patient_name}' (Token {token}) is assigned to {doctor}.\")\n",
    "        display()  # Display current assignments after adding a patient\n"
   ]
  },
  {
   "cell_type": "code",
   "execution_count": 9,
   "metadata": {},
   "outputs": [],
   "source": [
    "def complete(doctor, token):\n",
    "    #checks if such token exist\n",
    "    if token in patient_tokens:\n",
    "        #retrive the patient name from the dictionary\n",
    "        patient_name = patient_tokens[token]\n",
    "        #check if that patient is aasigned to that particular doctor\n",
    "        if patient_name in doc_patients[doctor]:\n",
    "            #removing the patient name from the dictionary\n",
    "            doc_patients[doctor].remove(patient_name)\n",
    "            print(f\"Visit completed for Patient '{patient_name}' (Token {token}) with {doctor}.\")\n",
    "            # Reassign patients after completion\n",
    "            assign_patient()\n",
    "        else:\n",
    "            print(f\"Patient '{patient_name}' (Token {token}) not found with {doctor}.\")\n",
    "    else:\n",
    "        print(f\"Token {token} not found.\")"
   ]
  },
  {
   "cell_type": "code",
   "execution_count": 10,
   "metadata": {},
   "outputs": [],
   "source": [
    "def display():\n",
    "    print(\"\\nCurrent Doctor-Patient Assignments:\")\n",
    "    for doctor, patients in doc_patients.items():\n",
    "        print(f\"{doctor}: {', '.join(patients) if patients else 'No patients'}\")\n",
    "    \n",
    "    # Display waiting patients in the queue\n",
    "    waiting_normal = [patient_tokens[token] for token in normal_queue]\n",
    "    waiting_emergency = [patient_tokens[token] for _, token in emergency_queue]\n",
    "    \n",
    "    print(\"\\nWaiting in Regular Queue:\", \", \".join(waiting_normal) if waiting_normal else \"No patients\")\n",
    "    print(\"Waiting in Emergency Queue:\", \", \".join(waiting_emergency) if waiting_emergency else \"No patients\")\n",
    "    print()"
   ]
  },
  {
   "cell_type": "code",
   "execution_count": 12,
   "metadata": {},
   "outputs": [
    {
     "name": "stdout",
     "output_type": "stream",
     "text": [
      "Initialized doctors: ['doctor_1', 'doctor_2', 'doctor_3']\n",
      "Patient 'Patient_1' with token 6 added to the regular queue.\n",
      "Patient 'Patient_1' (Token 6) is assigned to doctor_1.\n",
      "\n",
      "Current Doctor-Patient Assignments:\n",
      "doctor_1: Patient_1\n",
      "doctor_2: No patients\n",
      "doctor_3: No patients\n",
      "\n",
      "Waiting in Regular Queue: No patients\n",
      "Waiting in Emergency Queue: No patients\n",
      "\n",
      "Patient 'Patient_2' with token 7 added to the regular queue.\n",
      "Patient 'Patient_2' (Token 7) is assigned to doctor_2.\n",
      "\n",
      "Current Doctor-Patient Assignments:\n",
      "doctor_1: Patient_1\n",
      "doctor_2: Patient_2\n",
      "doctor_3: No patients\n",
      "\n",
      "Waiting in Regular Queue: No patients\n",
      "Waiting in Emergency Queue: No patients\n",
      "\n",
      "Patient 'Patient_3' with token 8 added to the emergency queue.\n",
      "EMERGENCY: Patient 'Patient_3' (Token 8) is assigned to doctor_3.\n",
      "\n",
      "Current Doctor-Patient Assignments:\n",
      "doctor_1: Patient_1\n",
      "doctor_2: Patient_2\n",
      "doctor_3: Patient_3\n",
      "\n",
      "Waiting in Regular Queue: No patients\n",
      "Waiting in Emergency Queue: No patients\n",
      "\n",
      "Patient 'Patient_4' with token 9 added to the regular queue.\n",
      "Patient 'Patient_5' with token 10 added to the emergency queue.\n",
      "Visit completed for Patient 'Patient_2' (Token 7) with doctor_2.\n",
      "EMERGENCY: Patient 'Patient_5' (Token 10) is assigned to doctor_2.\n",
      "\n",
      "Current Doctor-Patient Assignments:\n",
      "doctor_1: Patient_1\n",
      "doctor_2: Patient_5\n",
      "doctor_3: Patient_3\n",
      "\n",
      "Waiting in Regular Queue: Patient_4\n",
      "Waiting in Emergency Queue: No patients\n",
      "\n",
      "Visit completed for Patient 'Patient_3' (Token 8) with doctor_3.\n",
      "Patient 'Patient_4' (Token 9) is assigned to doctor_3.\n",
      "\n",
      "Current Doctor-Patient Assignments:\n",
      "doctor_1: Patient_1\n",
      "doctor_2: Patient_5\n",
      "doctor_3: Patient_4\n",
      "\n",
      "Waiting in Regular Queue: No patients\n",
      "Waiting in Emergency Queue: No patients\n",
      "\n"
     ]
    }
   ],
   "source": [
    "if __name__ == \"__main__\":\n",
    "    tot_doctors = int(input(\"Enter the number of doctors: \"))\n",
    "    num_doc(tot_doctors)\n",
    "\n",
    "    # Adding patients\n",
    "    add_patient(\"Patient_1\")\n",
    "    add_patient(\"Patient_2\")\n",
    "    add_patient(\"Patient_3\", is_emergency=True)  # Emergency patient\n",
    "    add_patient(\"Patient_4\",) \n",
    "    add_patient(\"Patient_5\", is_emergency=True)  # Emergency patient\n",
    "\n",
    "    # Completing visits\n",
    "    token_for_patient_2 = next(token for token, name in patient_tokens.items() if name == \"Patient_2\")\n",
    "    complete(\"doctor_2\", token_for_patient_2)\n",
    "\n",
    "    token_for_patient_3 = next(token for token, name in patient_tokens.items() if name == \"Patient_3\")\n",
    "    complete(\"doctor_3\", token_for_patient_3)\n",
    "\n"
   ]
  }
 ],
 "metadata": {
  "kernelspec": {
   "display_name": "Python 3",
   "language": "python",
   "name": "python3"
  },
  "language_info": {
   "codemirror_mode": {
    "name": "ipython",
    "version": 3
   },
   "file_extension": ".py",
   "mimetype": "text/x-python",
   "name": "python",
   "nbconvert_exporter": "python",
   "pygments_lexer": "ipython3",
   "version": "3.11.2"
  }
 },
 "nbformat": 4,
 "nbformat_minor": 2
}
